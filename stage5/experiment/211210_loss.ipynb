{
 "cells": [
  {
   "cell_type": "code",
   "execution_count": 1,
   "metadata": {},
   "outputs": [
    {
     "name": "stderr",
     "output_type": "stream",
     "text": [
      "필요한 패키지를 로딩중입니다: tidyverse\n",
      "\n",
      "─ \u001b[1mAttaching packages\u001b[22m ──────────────────── tidyverse 1.3.1 ─\n",
      "\n",
      "\u001b[32m✔\u001b[39m \u001b[34mggplot2\u001b[39m 3.3.5     \u001b[32m✔\u001b[39m \u001b[34mpurrr  \u001b[39m 0.3.4\n",
      "\u001b[32m✔\u001b[39m \u001b[34mtibble \u001b[39m 3.1.4     \u001b[32m✔\u001b[39m \u001b[34mdplyr  \u001b[39m 1.0.7\n",
      "\u001b[32m✔\u001b[39m \u001b[34mtidyr  \u001b[39m 1.1.4     \u001b[32m✔\u001b[39m \u001b[34mstringr\u001b[39m 1.4.0\n",
      "\u001b[32m✔\u001b[39m \u001b[34mreadr  \u001b[39m 2.0.2     \u001b[32m✔\u001b[39m \u001b[34mforcats\u001b[39m 0.5.1\n",
      "\n",
      "─ \u001b[1mConflicts\u001b[22m ───────────────────── tidyverse_conflicts() ─\n",
      "\u001b[31m✖\u001b[39m \u001b[34mdplyr\u001b[39m::\u001b[32mfilter()\u001b[39m masks \u001b[34mstats\u001b[39m::filter()\n",
      "\u001b[31m✖\u001b[39m \u001b[34mdplyr\u001b[39m::\u001b[32mlag()\u001b[39m    masks \u001b[34mstats\u001b[39m::lag()\n",
      "\n"
     ]
    }
   ],
   "source": [
    "require(tidyverse)"
   ]
  },
  {
   "cell_type": "code",
   "execution_count": 34,
   "metadata": {},
   "outputs": [
    {
     "data": {
      "text/html": [
       "7.66504371427981"
      ],
      "text/latex": [
       "7.66504371427981"
      ],
      "text/markdown": [
       "7.66504371427981"
      ],
      "text/plain": [
       "[1] 7.665044"
      ]
     },
     "metadata": {},
     "output_type": "display_data"
    }
   ],
   "source": [
    "log(2132.486)"
   ]
  },
  {
   "cell_type": "code",
   "execution_count": 48,
   "metadata": {},
   "outputs": [
    {
     "name": "stderr",
     "output_type": "stream",
     "text": [
      "\u001b[1m\u001b[1mRows: \u001b[1m\u001b[22m\u001b[34m\u001b[34m10276\u001b[34m\u001b[39m \u001b[1m\u001b[1mColumns: \u001b[1m\u001b[22m\u001b[34m\u001b[34m16\u001b[34m\u001b[39m\n",
      "\n",
      "\u001b[36m─\u001b[39m \u001b[1m\u001b[1mColumn specification\u001b[1m\u001b[22m \u001b[36m────────────────────────────\u001b[39m\n",
      "\u001b[1mDelimiter:\u001b[22m \",\"\n",
      "\u001b[32mdbl\u001b[39m (16): BSPT_SRV, OVRL_SRVL_DTRN_DCNT, BSPT_IDGN_AGE, BSPT_SEX_CD, C18, C1...\n",
      "\n",
      "\n",
      "\u001b[36mℹ\u001b[39m Use \u001b[30m\u001b[47m\u001b[30m\u001b[47m`spec()`\u001b[47m\u001b[30m\u001b[49m\u001b[39m to retrieve the full column specification for this data.\n",
      "\u001b[36mℹ\u001b[39m Specify the column types or set \u001b[30m\u001b[47m\u001b[30m\u001b[47m`show_col_types = FALSE`\u001b[47m\u001b[30m\u001b[49m\u001b[39m to quiet this message.\n",
      "\n"
     ]
    },
    {
     "data": {
      "text/html": [
       "147135.804671156"
      ],
      "text/latex": [
       "147135.804671156"
      ],
      "text/markdown": [
       "147135.804671156"
      ],
      "text/plain": [
       "[1] 147135.8"
      ]
     },
     "metadata": {},
     "output_type": "display_data"
    }
   ],
   "source": [
    "df <- read_csv('../stage1/input/forSurv.csv')\n",
    "\n",
    "df <- df %>% select(c(1,2,3,4))\n",
    "\n",
    "beta <- c(0.1, 0.2)\n",
    "\n",
    "# input : data, beta\n",
    "\n",
    "loss_function <- function(data, beta){\n",
    "    # calculate loss. divided into two sections. Left term and the Right term\n",
    "    ordered_df <- data %>% arrange(by=time)\n",
    "    timeY <- ordered_df %>% select(c(time, Y))\n",
    "    Xdata <- ordered_df %>% select(-c(time,Y))\n",
    "    \n",
    "    # calculate left term\n",
    "    left <- exp((Xdata %>% as.matrix()) %*% beta)\n",
    "    left <- timeY %>% cbind(exp = left)\n",
    "    left <- left %>%\n",
    "        group_by(time) %>%\n",
    "        summarise(\n",
    "            exp_sum = sum(exp),\n",
    "            log_exp_sum = log(exp_sum),\n",
    "            n = n(),\n",
    "            mul_with_n = n * log_exp_sum\n",
    "        )\n",
    "\n",
    "    left_term <- left$mul_with_n %>% sum()\n",
    "\n",
    "    # calculate right term\n",
    "    death_data <- ordered_df %>% filter(Y == 1)\n",
    "    timeY <- death_data %>% select(c(time, Y))\n",
    "    Xdata <- death_data %>% select(-c(time, Y))\n",
    "\n",
    "    right <- ((Xdata %>% as.matrix()) %*% beta)\n",
    "    right <- timeY %>% cbind(exp_log = right)\n",
    "\n",
    "    right_term <- right$exp_log %>% sum()\n",
    "\n",
    "    # calculate loss\n",
    "    loss <- left_term - right_term\n",
    "    return(loss)\n",
    "}\n",
    "\n",
    "\n",
    "ordered_df<- df %>% arrange(by=OVRL_SRVL_DTRN_DCNT)\n",
    "timeY <- ordered_df %>% select(c(time=2,Y=1))\n",
    "Xdata <- ordered_df %>% select(c(3:ncol(ordered_df)))\n",
    "ordered_df <- cbind(timeY, Xdata)\n",
    "\n",
    "# calculate left term\n",
    "left <- exp((Xdata %>% as.matrix()) %*% beta)\n",
    "left <- timeY %>% cbind( exp = left)\n",
    "left <- left %>%\n",
    "    group_by(time) %>%\n",
    "    summarise(exp_sum = sum(exp),\n",
    "    log_exp_sum = log(exp_sum),\n",
    "    n=n(),\n",
    "    mul_with_n = n*log_exp_sum)\n",
    "\n",
    "left_term <- left$mul_with_n %>% sum\n",
    "\n",
    "# calculate right term\n",
    "death_data <- ordered_df %>% filter(Y==1)\n",
    "timeY <- death_data %>% select(c(time,Y))\n",
    "Xdata <- death_data %>% select(-c(time,Y))\n",
    "\n",
    "right <- ((Xdata %>% as.matrix()) %*% beta)\n",
    "right <- timeY %>% cbind(exp_log=right)\n",
    "\n",
    "right_term <- right$exp_log %>% sum\n",
    "\n",
    "loss <- left_term - right_term\n",
    "\n",
    "loss"
   ]
  },
  {
   "cell_type": "code",
   "execution_count": null,
   "metadata": {},
   "outputs": [],
   "source": []
  }
 ],
 "metadata": {
  "kernelspec": {
   "display_name": "R",
   "language": "R",
   "name": "ir"
  },
  "language_info": {
   "codemirror_mode": "r",
   "file_extension": ".r",
   "mimetype": "text/x-r-source",
   "name": "R",
   "pygments_lexer": "r",
   "version": "4.1.0"
  },
  "orig_nbformat": 4
 },
 "nbformat": 4,
 "nbformat_minor": 2
}
