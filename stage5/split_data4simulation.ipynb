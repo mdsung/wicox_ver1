{
 "cells": [
  {
   "cell_type": "code",
   "execution_count": 1,
   "metadata": {},
   "outputs": [],
   "source": [
    "import pandas as pd\n",
    "from copy import deepcopy\n",
    "original_df = pd.read_csv('stage1/input/forSurv.csv')"
   ]
  },
  {
   "cell_type": "code",
   "execution_count": 7,
   "metadata": {},
   "outputs": [
    {
     "data": {
      "text/plain": [
       "['BSPT_IDGN_AGE',\n",
       " 'BSPT_SEX_CD',\n",
       " 'C18',\n",
       " 'C19',\n",
       " 'C20',\n",
       " 'IMPT_HM1E_RSLT_CD',\n",
       " 'IMPT_HS2E_RSLT_CD',\n",
       " 'BPTH_RSLT',\n",
       " 'CEA',\n",
       " 'MLPT_MSIE_RSLT_CD',\n",
       " 'MLPT_KRES_RSLT_CD',\n",
       " 'MLPT_NREX_RSLT_CD',\n",
       " 'OPRT_CNTS',\n",
       " 'TRTN_CNT']"
      ]
     },
     "execution_count": 7,
     "metadata": {},
     "output_type": "execute_result"
    }
   ],
   "source": [
    "cols = original_df.columns.tolist()\n",
    "cols.remove('BSPT_SRV')\n",
    "cols.remove('OVRL_SRVL_DTRN_DCNT')\n",
    "\n",
    "cols"
   ]
  },
  {
   "cell_type": "code",
   "execution_count": 32,
   "metadata": {},
   "outputs": [
    {
     "name": "stderr",
     "output_type": "stream",
     "text": [
      "/home/wonseok/synthetic_data/.env/lib64/python3.6/site-packages/lifelines/fitters/coxph_fitter.py:1602: ConvergenceWarning: Newton-Rhaphson failed to converge sufficiently. Please see the following tips in the lifelines documentation: https://lifelines.readthedocs.io/en/latest/Examples.html#problems-with-convergence-in-the-cox-proportional-hazard-model\n",
      "  \"Newton-Rhaphson failed to converge sufficiently. {0}\".format(CONVERGENCE_DOCS), exceptions.ConvergenceWarning\n"
     ]
    }
   ],
   "source": [
    "from lifelines import CoxPHFitter \n",
    "\n",
    "cph = CoxPHFitter(penalizer=0.01)\n",
    "check_book = {}\n",
    "for var in cols:\n",
    "    cph.fit(df=original_df, duration_col='OVRL_SRVL_DTRN_DCNT',event_col='BSPT_SRV',formula=f'{var}')\n",
    "    check_book[var] = (cph.summary.p.values.item() < 0.05)\n",
    "    "
   ]
  },
  {
   "cell_type": "code",
   "execution_count": 33,
   "metadata": {},
   "outputs": [
    {
     "data": {
      "text/plain": [
       "{'BSPT_IDGN_AGE': True,\n",
       " 'BSPT_SEX_CD': False,\n",
       " 'C18': False,\n",
       " 'C19': False,\n",
       " 'C20': False,\n",
       " 'IMPT_HM1E_RSLT_CD': False,\n",
       " 'IMPT_HS2E_RSLT_CD': False,\n",
       " 'BPTH_RSLT': False,\n",
       " 'CEA': True,\n",
       " 'MLPT_MSIE_RSLT_CD': False,\n",
       " 'MLPT_KRES_RSLT_CD': False,\n",
       " 'MLPT_NREX_RSLT_CD': False,\n",
       " 'OPRT_CNTS': True,\n",
       " 'TRTN_CNT': True}"
      ]
     },
     "execution_count": 33,
     "metadata": {},
     "output_type": "execute_result"
    }
   ],
   "source": [
    "check_book"
   ]
  },
  {
   "cell_type": "markdown",
   "metadata": {},
   "source": [
    "# 변수 선정\n",
    "변수를 결국 줄인다. 우리는 BSPT_SEX_CD, CEA, OPRT_CNTS, TRTN_CNT로 진행한다"
   ]
  },
  {
   "cell_type": "code",
   "execution_count": 36,
   "metadata": {},
   "outputs": [],
   "source": [
    "parsed_original_df = original_df[['BSPT_SRV','OVRL_SRVL_DTRN_DCNT','BSPT_IDGN_AGE','CEA','OPRT_CNTS','TRTN_CNT']]"
   ]
  },
  {
   "cell_type": "code",
   "execution_count": 37,
   "metadata": {},
   "outputs": [],
   "source": [
    "df1 = deepcopy(parsed_original_df.sample(frac=0.5,random_state=1))\n",
    "df2 = deepcopy(parsed_original_df.iloc[~original_df.index.isin(df1.index)])\n",
    "\n",
    "df1.reset_index(drop=True, inplace=True)\n",
    "df2.reset_index(drop=True, inplace=True)\n",
    "\n",
    "df1.to_csv('stage1/input/forSurv1.csv',index=False)\n",
    "df2.to_csv('stage1/input/forSurv2.csv', index=False)"
   ]
  },
  {
   "cell_type": "code",
   "execution_count": 20,
   "metadata": {},
   "outputs": [
    {
     "data": {
      "text/html": [
       "<div>\n",
       "<style scoped>\n",
       "    .dataframe tbody tr th:only-of-type {\n",
       "        vertical-align: middle;\n",
       "    }\n",
       "\n",
       "    .dataframe tbody tr th {\n",
       "        vertical-align: top;\n",
       "    }\n",
       "\n",
       "    .dataframe thead th {\n",
       "        text-align: right;\n",
       "    }\n",
       "</style>\n",
       "<table border=\"1\" class=\"dataframe\">\n",
       "  <thead>\n",
       "    <tr style=\"text-align: right;\">\n",
       "      <th></th>\n",
       "      <th>BSPT_SRV</th>\n",
       "      <th>OVRL_SRVL_DTRN_DCNT</th>\n",
       "      <th>BSPT_IDGN_AGE</th>\n",
       "      <th>CEA</th>\n",
       "      <th>OPRT_CNTS</th>\n",
       "      <th>TRTN_CNT</th>\n",
       "    </tr>\n",
       "  </thead>\n",
       "  <tbody>\n",
       "    <tr>\n",
       "      <th>2855</th>\n",
       "      <td>1</td>\n",
       "      <td>138</td>\n",
       "      <td>59</td>\n",
       "      <td>6.28</td>\n",
       "      <td>0.0</td>\n",
       "      <td>1.0</td>\n",
       "    </tr>\n",
       "  </tbody>\n",
       "</table>\n",
       "</div>"
      ],
      "text/plain": [
       "      BSPT_SRV  OVRL_SRVL_DTRN_DCNT  BSPT_IDGN_AGE   CEA  OPRT_CNTS  TRTN_CNT\n",
       "2855         1                  138             59  6.28        0.0       1.0"
      ]
     },
     "execution_count": 20,
     "metadata": {},
     "output_type": "execute_result"
    }
   ],
   "source": [
    "pd.read_csv('stage1/input/forSurv1.csv').sample(1)"
   ]
  },
  {
   "cell_type": "markdown",
   "metadata": {},
   "source": [
    "3개의 AUC 및 predicted beta 보여줄 것\n",
    "- 모든 데이터에 대해서 prediction이 가능함. --> 본래 cox 와 비교하는 plot"
   ]
  }
 ],
 "metadata": {
  "interpreter": {
   "hash": "73482d1f881a899c74eb81405b1927a45b4cfaab202534a0ab08220d5ad69313"
  },
  "kernelspec": {
   "display_name": "Python 3.6.8 64-bit ('.env': venv)",
   "language": "python",
   "name": "python3"
  },
  "language_info": {
   "codemirror_mode": {
    "name": "ipython",
    "version": 3
   },
   "file_extension": ".py",
   "mimetype": "text/x-python",
   "name": "python",
   "nbconvert_exporter": "python",
   "pygments_lexer": "ipython3",
   "version": "3.6.8"
  },
  "orig_nbformat": 4
 },
 "nbformat": 4,
 "nbformat_minor": 2
}
